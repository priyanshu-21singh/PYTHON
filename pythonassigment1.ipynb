{
 "cells": [
  {
   "cell_type": "code",
   "execution_count": 2,
   "id": "f2c82523",
   "metadata": {},
   "outputs": [],
   "source": [
    "import pandas as pd"
   ]
  },
  {
   "cell_type": "code",
   "execution_count": 3,
   "id": "71a55bd0",
   "metadata": {},
   "outputs": [],
   "source": [
    "df=pd.read_csv(\"Travel.csv\")"
   ]
  },
  {
   "cell_type": "code",
   "execution_count": 4,
   "id": "c4a5292e",
   "metadata": {
    "scrolled": true
   },
   "outputs": [
    {
     "data": {
      "text/html": [
       "<div>\n",
       "<style scoped>\n",
       "    .dataframe tbody tr th:only-of-type {\n",
       "        vertical-align: middle;\n",
       "    }\n",
       "\n",
       "    .dataframe tbody tr th {\n",
       "        vertical-align: top;\n",
       "    }\n",
       "\n",
       "    .dataframe thead th {\n",
       "        text-align: right;\n",
       "    }\n",
       "</style>\n",
       "<table border=\"1\" class=\"dataframe\">\n",
       "  <thead>\n",
       "    <tr style=\"text-align: right;\">\n",
       "      <th></th>\n",
       "      <th>CustomerID</th>\n",
       "      <th>ProdTaken</th>\n",
       "      <th>Age</th>\n",
       "      <th>TypeofContact</th>\n",
       "      <th>CityTier</th>\n",
       "      <th>DurationOfPitch</th>\n",
       "      <th>Occupation</th>\n",
       "      <th>Gender</th>\n",
       "      <th>NumberOfPersonVisiting</th>\n",
       "      <th>NumberOfFollowups</th>\n",
       "      <th>ProductPitched</th>\n",
       "      <th>PreferredPropertyStar</th>\n",
       "      <th>MaritalStatus</th>\n",
       "      <th>NumberOfTrips</th>\n",
       "      <th>Passport</th>\n",
       "      <th>PitchSatisfactionScore</th>\n",
       "      <th>OwnCar</th>\n",
       "      <th>NumberOfChildrenVisiting</th>\n",
       "      <th>Designation</th>\n",
       "      <th>MonthlyIncome</th>\n",
       "    </tr>\n",
       "  </thead>\n",
       "  <tbody>\n",
       "    <tr>\n",
       "      <th>0</th>\n",
       "      <td>200000</td>\n",
       "      <td>1</td>\n",
       "      <td>41.0</td>\n",
       "      <td>Self Enquiry</td>\n",
       "      <td>3</td>\n",
       "      <td>6.0</td>\n",
       "      <td>Salaried</td>\n",
       "      <td>Female</td>\n",
       "      <td>3</td>\n",
       "      <td>3.0</td>\n",
       "      <td>Deluxe</td>\n",
       "      <td>3.0</td>\n",
       "      <td>Single</td>\n",
       "      <td>1.0</td>\n",
       "      <td>1</td>\n",
       "      <td>2</td>\n",
       "      <td>1</td>\n",
       "      <td>0.0</td>\n",
       "      <td>Manager</td>\n",
       "      <td>20993.0</td>\n",
       "    </tr>\n",
       "    <tr>\n",
       "      <th>1</th>\n",
       "      <td>200001</td>\n",
       "      <td>0</td>\n",
       "      <td>49.0</td>\n",
       "      <td>Company Invited</td>\n",
       "      <td>1</td>\n",
       "      <td>14.0</td>\n",
       "      <td>Salaried</td>\n",
       "      <td>Male</td>\n",
       "      <td>3</td>\n",
       "      <td>4.0</td>\n",
       "      <td>Deluxe</td>\n",
       "      <td>4.0</td>\n",
       "      <td>Divorced</td>\n",
       "      <td>2.0</td>\n",
       "      <td>0</td>\n",
       "      <td>3</td>\n",
       "      <td>1</td>\n",
       "      <td>2.0</td>\n",
       "      <td>Manager</td>\n",
       "      <td>20130.0</td>\n",
       "    </tr>\n",
       "    <tr>\n",
       "      <th>2</th>\n",
       "      <td>200002</td>\n",
       "      <td>1</td>\n",
       "      <td>37.0</td>\n",
       "      <td>Self Enquiry</td>\n",
       "      <td>1</td>\n",
       "      <td>8.0</td>\n",
       "      <td>Free Lancer</td>\n",
       "      <td>Male</td>\n",
       "      <td>3</td>\n",
       "      <td>4.0</td>\n",
       "      <td>Basic</td>\n",
       "      <td>3.0</td>\n",
       "      <td>Single</td>\n",
       "      <td>7.0</td>\n",
       "      <td>1</td>\n",
       "      <td>3</td>\n",
       "      <td>0</td>\n",
       "      <td>0.0</td>\n",
       "      <td>Executive</td>\n",
       "      <td>17090.0</td>\n",
       "    </tr>\n",
       "    <tr>\n",
       "      <th>3</th>\n",
       "      <td>200003</td>\n",
       "      <td>0</td>\n",
       "      <td>33.0</td>\n",
       "      <td>Company Invited</td>\n",
       "      <td>1</td>\n",
       "      <td>9.0</td>\n",
       "      <td>Salaried</td>\n",
       "      <td>Female</td>\n",
       "      <td>2</td>\n",
       "      <td>3.0</td>\n",
       "      <td>Basic</td>\n",
       "      <td>3.0</td>\n",
       "      <td>Divorced</td>\n",
       "      <td>2.0</td>\n",
       "      <td>1</td>\n",
       "      <td>5</td>\n",
       "      <td>1</td>\n",
       "      <td>1.0</td>\n",
       "      <td>Executive</td>\n",
       "      <td>17909.0</td>\n",
       "    </tr>\n",
       "    <tr>\n",
       "      <th>4</th>\n",
       "      <td>200004</td>\n",
       "      <td>0</td>\n",
       "      <td>NaN</td>\n",
       "      <td>Self Enquiry</td>\n",
       "      <td>1</td>\n",
       "      <td>8.0</td>\n",
       "      <td>Small Business</td>\n",
       "      <td>Male</td>\n",
       "      <td>2</td>\n",
       "      <td>3.0</td>\n",
       "      <td>Basic</td>\n",
       "      <td>4.0</td>\n",
       "      <td>Divorced</td>\n",
       "      <td>1.0</td>\n",
       "      <td>0</td>\n",
       "      <td>5</td>\n",
       "      <td>1</td>\n",
       "      <td>0.0</td>\n",
       "      <td>Executive</td>\n",
       "      <td>18468.0</td>\n",
       "    </tr>\n",
       "    <tr>\n",
       "      <th>...</th>\n",
       "      <td>...</td>\n",
       "      <td>...</td>\n",
       "      <td>...</td>\n",
       "      <td>...</td>\n",
       "      <td>...</td>\n",
       "      <td>...</td>\n",
       "      <td>...</td>\n",
       "      <td>...</td>\n",
       "      <td>...</td>\n",
       "      <td>...</td>\n",
       "      <td>...</td>\n",
       "      <td>...</td>\n",
       "      <td>...</td>\n",
       "      <td>...</td>\n",
       "      <td>...</td>\n",
       "      <td>...</td>\n",
       "      <td>...</td>\n",
       "      <td>...</td>\n",
       "      <td>...</td>\n",
       "      <td>...</td>\n",
       "    </tr>\n",
       "    <tr>\n",
       "      <th>4883</th>\n",
       "      <td>204883</td>\n",
       "      <td>1</td>\n",
       "      <td>49.0</td>\n",
       "      <td>Self Enquiry</td>\n",
       "      <td>3</td>\n",
       "      <td>9.0</td>\n",
       "      <td>Small Business</td>\n",
       "      <td>Male</td>\n",
       "      <td>3</td>\n",
       "      <td>5.0</td>\n",
       "      <td>Deluxe</td>\n",
       "      <td>4.0</td>\n",
       "      <td>Unmarried</td>\n",
       "      <td>2.0</td>\n",
       "      <td>1</td>\n",
       "      <td>1</td>\n",
       "      <td>1</td>\n",
       "      <td>1.0</td>\n",
       "      <td>Manager</td>\n",
       "      <td>26576.0</td>\n",
       "    </tr>\n",
       "    <tr>\n",
       "      <th>4884</th>\n",
       "      <td>204884</td>\n",
       "      <td>1</td>\n",
       "      <td>28.0</td>\n",
       "      <td>Company Invited</td>\n",
       "      <td>1</td>\n",
       "      <td>31.0</td>\n",
       "      <td>Salaried</td>\n",
       "      <td>Male</td>\n",
       "      <td>4</td>\n",
       "      <td>5.0</td>\n",
       "      <td>Basic</td>\n",
       "      <td>3.0</td>\n",
       "      <td>Single</td>\n",
       "      <td>3.0</td>\n",
       "      <td>1</td>\n",
       "      <td>3</td>\n",
       "      <td>1</td>\n",
       "      <td>2.0</td>\n",
       "      <td>Executive</td>\n",
       "      <td>21212.0</td>\n",
       "    </tr>\n",
       "    <tr>\n",
       "      <th>4885</th>\n",
       "      <td>204885</td>\n",
       "      <td>1</td>\n",
       "      <td>52.0</td>\n",
       "      <td>Self Enquiry</td>\n",
       "      <td>3</td>\n",
       "      <td>17.0</td>\n",
       "      <td>Salaried</td>\n",
       "      <td>Female</td>\n",
       "      <td>4</td>\n",
       "      <td>4.0</td>\n",
       "      <td>Standard</td>\n",
       "      <td>4.0</td>\n",
       "      <td>Married</td>\n",
       "      <td>7.0</td>\n",
       "      <td>0</td>\n",
       "      <td>1</td>\n",
       "      <td>1</td>\n",
       "      <td>3.0</td>\n",
       "      <td>Senior Manager</td>\n",
       "      <td>31820.0</td>\n",
       "    </tr>\n",
       "    <tr>\n",
       "      <th>4886</th>\n",
       "      <td>204886</td>\n",
       "      <td>1</td>\n",
       "      <td>19.0</td>\n",
       "      <td>Self Enquiry</td>\n",
       "      <td>3</td>\n",
       "      <td>16.0</td>\n",
       "      <td>Small Business</td>\n",
       "      <td>Male</td>\n",
       "      <td>3</td>\n",
       "      <td>4.0</td>\n",
       "      <td>Basic</td>\n",
       "      <td>3.0</td>\n",
       "      <td>Single</td>\n",
       "      <td>3.0</td>\n",
       "      <td>0</td>\n",
       "      <td>5</td>\n",
       "      <td>0</td>\n",
       "      <td>2.0</td>\n",
       "      <td>Executive</td>\n",
       "      <td>20289.0</td>\n",
       "    </tr>\n",
       "    <tr>\n",
       "      <th>4887</th>\n",
       "      <td>204887</td>\n",
       "      <td>1</td>\n",
       "      <td>36.0</td>\n",
       "      <td>Self Enquiry</td>\n",
       "      <td>1</td>\n",
       "      <td>14.0</td>\n",
       "      <td>Salaried</td>\n",
       "      <td>Male</td>\n",
       "      <td>4</td>\n",
       "      <td>4.0</td>\n",
       "      <td>Basic</td>\n",
       "      <td>4.0</td>\n",
       "      <td>Unmarried</td>\n",
       "      <td>3.0</td>\n",
       "      <td>1</td>\n",
       "      <td>3</td>\n",
       "      <td>1</td>\n",
       "      <td>2.0</td>\n",
       "      <td>Executive</td>\n",
       "      <td>24041.0</td>\n",
       "    </tr>\n",
       "  </tbody>\n",
       "</table>\n",
       "<p>4888 rows × 20 columns</p>\n",
       "</div>"
      ],
      "text/plain": [
       "      CustomerID  ProdTaken   Age    TypeofContact  CityTier  DurationOfPitch  \\\n",
       "0         200000          1  41.0     Self Enquiry         3              6.0   \n",
       "1         200001          0  49.0  Company Invited         1             14.0   \n",
       "2         200002          1  37.0     Self Enquiry         1              8.0   \n",
       "3         200003          0  33.0  Company Invited         1              9.0   \n",
       "4         200004          0   NaN     Self Enquiry         1              8.0   \n",
       "...          ...        ...   ...              ...       ...              ...   \n",
       "4883      204883          1  49.0     Self Enquiry         3              9.0   \n",
       "4884      204884          1  28.0  Company Invited         1             31.0   \n",
       "4885      204885          1  52.0     Self Enquiry         3             17.0   \n",
       "4886      204886          1  19.0     Self Enquiry         3             16.0   \n",
       "4887      204887          1  36.0     Self Enquiry         1             14.0   \n",
       "\n",
       "          Occupation  Gender  NumberOfPersonVisiting  NumberOfFollowups  \\\n",
       "0           Salaried  Female                       3                3.0   \n",
       "1           Salaried    Male                       3                4.0   \n",
       "2        Free Lancer    Male                       3                4.0   \n",
       "3           Salaried  Female                       2                3.0   \n",
       "4     Small Business    Male                       2                3.0   \n",
       "...              ...     ...                     ...                ...   \n",
       "4883  Small Business    Male                       3                5.0   \n",
       "4884        Salaried    Male                       4                5.0   \n",
       "4885        Salaried  Female                       4                4.0   \n",
       "4886  Small Business    Male                       3                4.0   \n",
       "4887        Salaried    Male                       4                4.0   \n",
       "\n",
       "     ProductPitched  PreferredPropertyStar MaritalStatus  NumberOfTrips  \\\n",
       "0            Deluxe                    3.0        Single            1.0   \n",
       "1            Deluxe                    4.0      Divorced            2.0   \n",
       "2             Basic                    3.0        Single            7.0   \n",
       "3             Basic                    3.0      Divorced            2.0   \n",
       "4             Basic                    4.0      Divorced            1.0   \n",
       "...             ...                    ...           ...            ...   \n",
       "4883         Deluxe                    4.0     Unmarried            2.0   \n",
       "4884          Basic                    3.0        Single            3.0   \n",
       "4885       Standard                    4.0       Married            7.0   \n",
       "4886          Basic                    3.0        Single            3.0   \n",
       "4887          Basic                    4.0     Unmarried            3.0   \n",
       "\n",
       "      Passport  PitchSatisfactionScore  OwnCar  NumberOfChildrenVisiting  \\\n",
       "0            1                       2       1                       0.0   \n",
       "1            0                       3       1                       2.0   \n",
       "2            1                       3       0                       0.0   \n",
       "3            1                       5       1                       1.0   \n",
       "4            0                       5       1                       0.0   \n",
       "...        ...                     ...     ...                       ...   \n",
       "4883         1                       1       1                       1.0   \n",
       "4884         1                       3       1                       2.0   \n",
       "4885         0                       1       1                       3.0   \n",
       "4886         0                       5       0                       2.0   \n",
       "4887         1                       3       1                       2.0   \n",
       "\n",
       "         Designation  MonthlyIncome  \n",
       "0            Manager        20993.0  \n",
       "1            Manager        20130.0  \n",
       "2          Executive        17090.0  \n",
       "3          Executive        17909.0  \n",
       "4          Executive        18468.0  \n",
       "...              ...            ...  \n",
       "4883         Manager        26576.0  \n",
       "4884       Executive        21212.0  \n",
       "4885  Senior Manager        31820.0  \n",
       "4886       Executive        20289.0  \n",
       "4887       Executive        24041.0  \n",
       "\n",
       "[4888 rows x 20 columns]"
      ]
     },
     "execution_count": 4,
     "metadata": {},
     "output_type": "execute_result"
    }
   ],
   "source": [
    "df"
   ]
  },
  {
   "cell_type": "markdown",
   "id": "bc6cf9d4",
   "metadata": {},
   "source": [
    "# A.  What is the distribution of customerages, and how does age relate to product purchase \n",
    "(ProdTaken)? "
   ]
  },
  {
   "cell_type": "code",
   "execution_count": 13,
   "id": "2a501cc9",
   "metadata": {},
   "outputs": [],
   "source": [
    "customer_ages =df['Age']"
   ]
  },
  {
   "cell_type": "code",
   "execution_count": 14,
   "id": "d889b638",
   "metadata": {},
   "outputs": [
    {
     "data": {
      "text/plain": [
       "0       41.0\n",
       "1       49.0\n",
       "2       37.0\n",
       "3       33.0\n",
       "4        NaN\n",
       "        ... \n",
       "4883    49.0\n",
       "4884    28.0\n",
       "4885    52.0\n",
       "4886    19.0\n",
       "4887    36.0\n",
       "Name: Age, Length: 4888, dtype: float64"
      ]
     },
     "execution_count": 14,
     "metadata": {},
     "output_type": "execute_result"
    }
   ],
   "source": [
    "customer_ages"
   ]
  },
  {
   "cell_type": "markdown",
   "id": "cc0fc2b8",
   "metadata": {},
   "source": [
    "# Age distribution"
   ]
  },
  {
   "cell_type": "code",
   "execution_count": 17,
   "id": "b3e77eb5",
   "metadata": {},
   "outputs": [],
   "source": [
    "age_distribution = df['Age'].value_counts()"
   ]
  },
  {
   "cell_type": "code",
   "execution_count": 18,
   "id": "fa8fb544",
   "metadata": {},
   "outputs": [
    {
     "data": {
      "text/plain": [
       "Age\n",
       "35.0    237\n",
       "36.0    231\n",
       "34.0    211\n",
       "31.0    203\n",
       "30.0    199\n",
       "32.0    197\n",
       "33.0    189\n",
       "37.0    185\n",
       "29.0    178\n",
       "38.0    176\n",
       "41.0    155\n",
       "39.0    150\n",
       "28.0    147\n",
       "40.0    146\n",
       "42.0    142\n",
       "27.0    138\n",
       "43.0    130\n",
       "46.0    121\n",
       "45.0    116\n",
       "26.0    106\n",
       "44.0    105\n",
       "51.0     90\n",
       "47.0     88\n",
       "50.0     86\n",
       "25.0     74\n",
       "52.0     68\n",
       "53.0     66\n",
       "48.0     65\n",
       "49.0     65\n",
       "55.0     64\n",
       "54.0     61\n",
       "56.0     58\n",
       "24.0     56\n",
       "22.0     46\n",
       "23.0     46\n",
       "59.0     44\n",
       "21.0     41\n",
       "20.0     38\n",
       "19.0     32\n",
       "58.0     31\n",
       "57.0     29\n",
       "60.0     29\n",
       "18.0     14\n",
       "61.0      9\n",
       "Name: count, dtype: int64"
      ]
     },
     "execution_count": 18,
     "metadata": {},
     "output_type": "execute_result"
    }
   ],
   "source": [
    "age_distribution"
   ]
  },
  {
   "cell_type": "markdown",
   "id": "a48e295d",
   "metadata": {},
   "source": [
    "# Age vs ProductTaken"
   ]
  },
  {
   "cell_type": "code",
   "execution_count": 19,
   "id": "f20bc92a",
   "metadata": {},
   "outputs": [],
   "source": [
    "age_vs_product_taken = df.groupby('Age')['ProdTaken'].mean()\n"
   ]
  },
  {
   "cell_type": "code",
   "execution_count": 20,
   "id": "c50d19ab",
   "metadata": {},
   "outputs": [
    {
     "data": {
      "text/plain": [
       "Age\n",
       "18.0    0.571429\n",
       "19.0    0.656250\n",
       "20.0    0.657895\n",
       "21.0    0.560976\n",
       "22.0    0.326087\n",
       "23.0    0.282609\n",
       "24.0    0.321429\n",
       "25.0    0.270270\n",
       "26.0    0.349057\n",
       "27.0    0.217391\n",
       "28.0    0.176871\n",
       "29.0    0.320225\n",
       "30.0    0.241206\n",
       "31.0    0.201970\n",
       "32.0    0.203046\n",
       "33.0    0.211640\n",
       "34.0    0.208531\n",
       "35.0    0.143460\n",
       "36.0    0.116883\n",
       "37.0    0.129730\n",
       "38.0    0.085227\n",
       "39.0    0.093333\n",
       "40.0    0.157534\n",
       "41.0    0.154839\n",
       "42.0    0.140845\n",
       "43.0    0.076923\n",
       "44.0    0.161905\n",
       "45.0    0.155172\n",
       "46.0    0.090909\n",
       "47.0    0.136364\n",
       "48.0    0.169231\n",
       "49.0    0.138462\n",
       "50.0    0.139535\n",
       "51.0    0.188889\n",
       "52.0    0.205882\n",
       "53.0    0.121212\n",
       "54.0    0.032787\n",
       "55.0    0.109375\n",
       "56.0    0.206897\n",
       "57.0    0.172414\n",
       "58.0    0.354839\n",
       "59.0    0.272727\n",
       "60.0    0.034483\n",
       "61.0    0.000000\n",
       "Name: ProdTaken, dtype: float64"
      ]
     },
     "execution_count": 20,
     "metadata": {},
     "output_type": "execute_result"
    }
   ],
   "source": [
    "age_vs_product_taken"
   ]
  },
  {
   "cell_type": "markdown",
   "id": "0fc83609",
   "metadata": {},
   "source": [
    "# B. Influence of type of contact on likelihood of purchasing a travel product"
   ]
  },
  {
   "cell_type": "code",
   "execution_count": 21,
   "id": "b4f94803",
   "metadata": {},
   "outputs": [],
   "source": [
    "contact_vs_product_taken = df.groupby('TypeofContact')['ProdTaken'].mean()"
   ]
  },
  {
   "cell_type": "code",
   "execution_count": 22,
   "id": "d4b1bd2a",
   "metadata": {},
   "outputs": [
    {
     "data": {
      "text/plain": [
       "TypeofContact\n",
       "Company Invited    0.218464\n",
       "Self Enquiry       0.176249\n",
       "Name: ProdTaken, dtype: float64"
      ]
     },
     "execution_count": 22,
     "metadata": {},
     "output_type": "execute_result"
    }
   ],
   "source": [
    "contact_vs_product_taken"
   ]
  },
  {
   "cell_type": "markdown",
   "id": "45676ef7",
   "metadata": {},
   "source": [
    "# C. Correlation between city tier and monthly income"
   ]
  },
  {
   "cell_type": "code",
   "execution_count": 23,
   "id": "f9b5e222",
   "metadata": {},
   "outputs": [],
   "source": [
    "correlation_city_tier_income = df['CityTier'].corr(df['MonthlyIncome'])"
   ]
  },
  {
   "cell_type": "code",
   "execution_count": 24,
   "id": "918ab807",
   "metadata": {},
   "outputs": [
    {
     "data": {
      "text/plain": [
       "0.05181691698577299"
      ]
     },
     "execution_count": 24,
     "metadata": {},
     "output_type": "execute_result"
    }
   ],
   "source": [
    "correlation_city_tier_income"
   ]
  },
  {
   "cell_type": "markdown",
   "id": "4aafc8bc",
   "metadata": {},
   "source": [
    "# D. Average duration of pitch for customers who purchased a product vs those who did not"
   ]
  },
  {
   "cell_type": "code",
   "execution_count": 25,
   "id": "552ba060",
   "metadata": {},
   "outputs": [],
   "source": [
    "avg_duration_pitch = df.groupby('ProdTaken')['DurationOfPitch'].mean()\n"
   ]
  },
  {
   "cell_type": "code",
   "execution_count": 26,
   "id": "ac1e6b36",
   "metadata": {},
   "outputs": [
    {
     "data": {
      "text/plain": [
       "ProdTaken\n",
       "0    15.169325\n",
       "1    16.873143\n",
       "Name: DurationOfPitch, dtype: float64"
      ]
     },
     "execution_count": 26,
     "metadata": {},
     "output_type": "execute_result"
    }
   ],
   "source": [
    "avg_duration_pitch"
   ]
  },
  {
   "cell_type": "markdown",
   "id": "bcbd724e",
   "metadata": {},
   "source": [
    "#  E. Occupation types distribution and likelihood of purchasing a travel product"
   ]
  },
  {
   "cell_type": "code",
   "execution_count": 27,
   "id": "cb5408a8",
   "metadata": {},
   "outputs": [],
   "source": [
    "occupation_distribution = df['Occupation'].value_counts()"
   ]
  },
  {
   "cell_type": "code",
   "execution_count": 28,
   "id": "663a1b3f",
   "metadata": {},
   "outputs": [
    {
     "data": {
      "text/plain": [
       "Occupation\n",
       "Salaried          2368\n",
       "Small Business    2084\n",
       "Large Business     434\n",
       "Free Lancer          2\n",
       "Name: count, dtype: int64"
      ]
     },
     "execution_count": 28,
     "metadata": {},
     "output_type": "execute_result"
    }
   ],
   "source": [
    "occupation_distribution"
   ]
  },
  {
   "cell_type": "code",
   "execution_count": 29,
   "id": "27ad1daf",
   "metadata": {},
   "outputs": [],
   "source": [
    "occupation_vs_product_taken = df.groupby('Occupation')['ProdTaken'].mean()"
   ]
  },
  {
   "cell_type": "code",
   "execution_count": 30,
   "id": "0de87221",
   "metadata": {},
   "outputs": [
    {
     "data": {
      "text/plain": [
       "Occupation\n",
       "Free Lancer       1.000000\n",
       "Large Business    0.276498\n",
       "Salaried          0.174831\n",
       "Small Business    0.184261\n",
       "Name: ProdTaken, dtype: float64"
      ]
     },
     "execution_count": 30,
     "metadata": {},
     "output_type": "execute_result"
    }
   ],
   "source": [
    "occupation_vs_product_taken"
   ]
  },
  {
   "cell_type": "markdown",
   "id": "69a16926",
   "metadata": {},
   "source": [
    "# F. Gender-based preferences for product pitched"
   ]
  },
  {
   "cell_type": "code",
   "execution_count": 31,
   "id": "61835f29",
   "metadata": {},
   "outputs": [],
   "source": [
    "gender_preferences = df.groupby('Gender')['ProductPitched'].value_counts()"
   ]
  },
  {
   "cell_type": "code",
   "execution_count": 32,
   "id": "ec4a9b75",
   "metadata": {},
   "outputs": [
    {
     "data": {
      "text/plain": [
       "Gender   ProductPitched\n",
       "Fe Male  Deluxe              83\n",
       "         Standard            63\n",
       "         Super Deluxe         5\n",
       "         Basic                4\n",
       "Female   Basic              676\n",
       "         Deluxe             641\n",
       "         Standard           263\n",
       "         Super Deluxe       155\n",
       "         King                82\n",
       "Male     Basic             1162\n",
       "         Deluxe            1008\n",
       "         Standard           416\n",
       "         Super Deluxe       182\n",
       "         King               148\n",
       "Name: count, dtype: int64"
      ]
     },
     "execution_count": 32,
     "metadata": {},
     "output_type": "execute_result"
    }
   ],
   "source": [
    "gender_preferences"
   ]
  },
  {
   "cell_type": "markdown",
   "id": "b3709bdc",
   "metadata": {},
   "source": [
    "# G. Relationship between number of trips and likelihood to purchase a new travel product\n"
   ]
  },
  {
   "cell_type": "code",
   "execution_count": 33,
   "id": "51a98a3c",
   "metadata": {},
   "outputs": [],
   "source": [
    "trip_vs_product_taken = df.groupby('NumberOfTrips')['ProdTaken'].mean()\n"
   ]
  },
  {
   "cell_type": "code",
   "execution_count": 34,
   "id": "76865585",
   "metadata": {},
   "outputs": [
    {
     "data": {
      "text/plain": [
       "NumberOfTrips\n",
       "1.0     0.180645\n",
       "2.0     0.204235\n",
       "3.0     0.201112\n",
       "4.0     0.127615\n",
       "5.0     0.135371\n",
       "6.0     0.198758\n",
       "7.0     0.284404\n",
       "8.0     0.276190\n",
       "19.0    1.000000\n",
       "20.0    1.000000\n",
       "21.0    0.000000\n",
       "22.0    0.000000\n",
       "Name: ProdTaken, dtype: float64"
      ]
     },
     "execution_count": 34,
     "metadata": {},
     "output_type": "execute_result"
    }
   ],
   "source": [
    "trip_vs_product_taken"
   ]
  },
  {
   "cell_type": "markdown",
   "id": "d007b513",
   "metadata": {},
   "source": [
    "#  H. Correlation between having a passport and number of trips or likelihood of purchasing a travel product"
   ]
  },
  {
   "cell_type": "code",
   "execution_count": 35,
   "id": "9a96b79f",
   "metadata": {},
   "outputs": [],
   "source": [
    "passport_vs_trips = df['Passport'].corr(df['NumberOfTrips'])"
   ]
  },
  {
   "cell_type": "code",
   "execution_count": 36,
   "id": "363699d4",
   "metadata": {},
   "outputs": [
    {
     "data": {
      "text/plain": [
       "0.012948643307955305"
      ]
     },
     "execution_count": 36,
     "metadata": {},
     "output_type": "execute_result"
    }
   ],
   "source": [
    "passport_vs_trips"
   ]
  },
  {
   "cell_type": "code",
   "execution_count": 37,
   "id": "73044015",
   "metadata": {},
   "outputs": [],
   "source": [
    "passport_vs_product_taken = df['Passport'].corr(df['ProdTaken'])\n"
   ]
  },
  {
   "cell_type": "code",
   "execution_count": 38,
   "id": "4bb07edd",
   "metadata": {},
   "outputs": [
    {
     "data": {
      "text/plain": [
       "0.2608440322159342"
      ]
     },
     "execution_count": 38,
     "metadata": {},
     "output_type": "execute_result"
    }
   ],
   "source": [
    "passport_vs_product_taken"
   ]
  },
  {
   "cell_type": "markdown",
   "id": "8b83dce8",
   "metadata": {},
   "source": [
    "#  I. Satisfaction with pitch and influence on product purchase"
   ]
  },
  {
   "cell_type": "code",
   "execution_count": 39,
   "id": "03bc9598",
   "metadata": {},
   "outputs": [],
   "source": [
    "satisfaction_vs_product_taken = df.groupby('PitchSatisfactionScore')['ProdTaken'].mean()\n"
   ]
  },
  {
   "cell_type": "code",
   "execution_count": 40,
   "id": "5d46b7db",
   "metadata": {},
   "outputs": [
    {
     "data": {
      "text/plain": [
       "PitchSatisfactionScore\n",
       "1    0.152866\n",
       "2    0.150171\n",
       "3    0.213802\n",
       "4    0.177632\n",
       "5    0.216495\n",
       "Name: ProdTaken, dtype: float64"
      ]
     },
     "execution_count": 40,
     "metadata": {},
     "output_type": "execute_result"
    }
   ],
   "source": [
    "satisfaction_vs_product_taken"
   ]
  },
  {
   "cell_type": "markdown",
   "id": "890ecafa",
   "metadata": {},
   "source": [
    "# J. Impact of number of children on travel product purchases"
   ]
  },
  {
   "cell_type": "code",
   "execution_count": 41,
   "id": "379218f5",
   "metadata": {},
   "outputs": [],
   "source": [
    "children_vs_product_taken = df.groupby('NumberOfChildrenVisiting')['ProdTaken'].mean()"
   ]
  },
  {
   "cell_type": "code",
   "execution_count": 42,
   "id": "1c727f8d",
   "metadata": {},
   "outputs": [
    {
     "data": {
      "text/plain": [
       "NumberOfChildrenVisiting\n",
       "0.0    0.186691\n",
       "1.0    0.188462\n",
       "2.0    0.189513\n",
       "3.0    0.203077\n",
       "Name: ProdTaken, dtype: float64"
      ]
     },
     "execution_count": 42,
     "metadata": {},
     "output_type": "execute_result"
    }
   ],
   "source": [
    "children_vs_product_taken"
   ]
  },
  {
   "cell_type": "markdown",
   "id": "b7c36b4d",
   "metadata": {},
   "source": [
    "# K. Gender preferences for product types pitched"
   ]
  },
  {
   "cell_type": "code",
   "execution_count": 43,
   "id": "1281d157",
   "metadata": {},
   "outputs": [],
   "source": [
    "gender_preferences_product_pitched = df.groupby('Gender')['ProductPitched'].value_counts()"
   ]
  },
  {
   "cell_type": "code",
   "execution_count": 44,
   "id": "e64d85be",
   "metadata": {},
   "outputs": [
    {
     "data": {
      "text/plain": [
       "Gender   ProductPitched\n",
       "Fe Male  Deluxe              83\n",
       "         Standard            63\n",
       "         Super Deluxe         5\n",
       "         Basic                4\n",
       "Female   Basic              676\n",
       "         Deluxe             641\n",
       "         Standard           263\n",
       "         Super Deluxe       155\n",
       "         King                82\n",
       "Male     Basic             1162\n",
       "         Deluxe            1008\n",
       "         Standard           416\n",
       "         Super Deluxe       182\n",
       "         King               148\n",
       "Name: count, dtype: int64"
      ]
     },
     "execution_count": 44,
     "metadata": {},
     "output_type": "execute_result"
    }
   ],
   "source": [
    "gender_preferences_product_pitched "
   ]
  },
  {
   "cell_type": "markdown",
   "id": "9ccfec11",
   "metadata": {},
   "source": [
    "#  L. Impact of marital status on travel preferences"
   ]
  },
  {
   "cell_type": "code",
   "execution_count": 45,
   "id": "740bac46",
   "metadata": {},
   "outputs": [],
   "source": [
    "marital_status_vs_product_taken = df.groupby('MaritalStatus')['ProdTaken'].mean()"
   ]
  },
  {
   "cell_type": "code",
   "execution_count": 46,
   "id": "889033d2",
   "metadata": {},
   "outputs": [
    {
     "data": {
      "text/plain": [
       "MaritalStatus\n",
       "Divorced     0.130526\n",
       "Married      0.139316\n",
       "Single       0.331878\n",
       "Unmarried    0.243402\n",
       "Name: ProdTaken, dtype: float64"
      ]
     },
     "execution_count": 46,
     "metadata": {},
     "output_type": "execute_result"
    }
   ],
   "source": [
    "marital_status_vs_product_taken"
   ]
  },
  {
   "cell_type": "markdown",
   "id": "44f0b6fa",
   "metadata": {},
   "source": [
    "# M. Relationship between number of children and travel product interest"
   ]
  },
  {
   "cell_type": "code",
   "execution_count": 48,
   "id": "7f9615ea",
   "metadata": {},
   "outputs": [],
   "source": [
    "children_vs_product_interest = df.groupby('NumberOfChildrenVisiting')['ProdTaken'].mean()"
   ]
  },
  {
   "cell_type": "code",
   "execution_count": 49,
   "id": "dbce0607",
   "metadata": {},
   "outputs": [
    {
     "data": {
      "text/plain": [
       "NumberOfChildrenVisiting\n",
       "0.0    0.186691\n",
       "1.0    0.188462\n",
       "2.0    0.189513\n",
       "3.0    0.203077\n",
       "Name: ProdTaken, dtype: float64"
      ]
     },
     "execution_count": 49,
     "metadata": {},
     "output_type": "execute_result"
    }
   ],
   "source": [
    "children_vs_product_interest"
   ]
  },
  {
   "cell_type": "markdown",
   "id": "fce3dd18",
   "metadata": {},
   "source": [
    "#  N. Influence of owning a car on travel decisions"
   ]
  },
  {
   "cell_type": "code",
   "execution_count": 50,
   "id": "ec2692b9",
   "metadata": {},
   "outputs": [],
   "source": [
    "own_car_vs_trips = df['OwnCar'].corr(df['NumberOfTrips'])"
   ]
  },
  {
   "cell_type": "code",
   "execution_count": 51,
   "id": "1d7bfa8b",
   "metadata": {},
   "outputs": [
    {
     "data": {
      "text/plain": [
       "-0.011824686371922794"
      ]
     },
     "execution_count": 51,
     "metadata": {},
     "output_type": "execute_result"
    }
   ],
   "source": [
    "own_car_vs_trips"
   ]
  },
  {
   "cell_type": "code",
   "execution_count": 52,
   "id": "155db67c",
   "metadata": {},
   "outputs": [],
   "source": [
    "own_car_vs_product_taken = df['OwnCar'].corr(df['ProdTaken'])"
   ]
  },
  {
   "cell_type": "code",
   "execution_count": 53,
   "id": "6ccd2ce6",
   "metadata": {},
   "outputs": [
    {
     "data": {
      "text/plain": [
       "-0.011508116583710728"
      ]
     },
     "execution_count": 53,
     "metadata": {},
     "output_type": "execute_result"
    }
   ],
   "source": [
    "own_car_vs_product_taken"
   ]
  },
  {
   "cell_type": "markdown",
   "id": "c34bde00",
   "metadata": {},
   "source": [
    "#  O. Income level and product choice"
   ]
  },
  {
   "cell_type": "code",
   "execution_count": 54,
   "id": "27932605",
   "metadata": {},
   "outputs": [],
   "source": [
    "income_vs_product_choice = df.groupby('MonthlyIncome')['ProductPitched'].value_counts()"
   ]
  },
  {
   "cell_type": "code",
   "execution_count": 55,
   "id": "b8c38282",
   "metadata": {},
   "outputs": [
    {
     "data": {
      "text/plain": [
       "MonthlyIncome  ProductPitched\n",
       "1000.0         Deluxe            1\n",
       "4678.0         Deluxe            1\n",
       "16009.0        Basic             2\n",
       "16051.0        Basic             2\n",
       "16052.0        Basic             2\n",
       "                                ..\n",
       "38621.0        King              2\n",
       "38651.0        King              2\n",
       "38677.0        King              2\n",
       "95000.0        Basic             1\n",
       "98678.0        Basic             1\n",
       "Name: count, Length: 2680, dtype: int64"
      ]
     },
     "execution_count": 55,
     "metadata": {},
     "output_type": "execute_result"
    }
   ],
   "source": [
    "income_vs_product_choice"
   ]
  },
  {
   "cell_type": "code",
   "execution_count": null,
   "id": "b4dd6d4e",
   "metadata": {},
   "outputs": [],
   "source": []
  }
 ],
 "metadata": {
  "kernelspec": {
   "display_name": "Python 3 (ipykernel)",
   "language": "python",
   "name": "python3"
  },
  "language_info": {
   "codemirror_mode": {
    "name": "ipython",
    "version": 3
   },
   "file_extension": ".py",
   "mimetype": "text/x-python",
   "name": "python",
   "nbconvert_exporter": "python",
   "pygments_lexer": "ipython3",
   "version": "3.11.5"
  }
 },
 "nbformat": 4,
 "nbformat_minor": 5
}
